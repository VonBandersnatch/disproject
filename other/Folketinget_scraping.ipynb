{
 "cells": [
  {
   "cell_type": "code",
   "execution_count": 38,
   "id": "4ea75ff0-0674-41c4-bcff-45df6ff34397",
   "metadata": {
    "scrolled": true
   },
   "outputs": [
    {
     "name": "stdout",
     "output_type": "stream",
     "text": [
      "Requirement already satisfied: requests in /Library/Frameworks/Python.framework/Versions/3.13/lib/python3.13/site-packages (2.32.3)\n",
      "Requirement already satisfied: pandas in /Library/Frameworks/Python.framework/Versions/3.13/lib/python3.13/site-packages (2.2.3)\n",
      "Requirement already satisfied: charset-normalizer<4,>=2 in /Library/Frameworks/Python.framework/Versions/3.13/lib/python3.13/site-packages (from requests) (3.4.1)\n",
      "Requirement already satisfied: idna<4,>=2.5 in /Library/Frameworks/Python.framework/Versions/3.13/lib/python3.13/site-packages (from requests) (3.10)\n",
      "Requirement already satisfied: urllib3<3,>=1.21.1 in /Library/Frameworks/Python.framework/Versions/3.13/lib/python3.13/site-packages (from requests) (2.3.0)\n",
      "Requirement already satisfied: certifi>=2017.4.17 in /Library/Frameworks/Python.framework/Versions/3.13/lib/python3.13/site-packages (from requests) (2024.8.30)\n",
      "Requirement already satisfied: numpy>=1.26.0 in /Library/Frameworks/Python.framework/Versions/3.13/lib/python3.13/site-packages (from pandas) (2.2.2)\n",
      "Requirement already satisfied: python-dateutil>=2.8.2 in /Library/Frameworks/Python.framework/Versions/3.13/lib/python3.13/site-packages (from pandas) (2.9.0.post0)\n",
      "Requirement already satisfied: pytz>=2020.1 in /Library/Frameworks/Python.framework/Versions/3.13/lib/python3.13/site-packages (from pandas) (2025.1)\n",
      "Requirement already satisfied: tzdata>=2022.7 in /Library/Frameworks/Python.framework/Versions/3.13/lib/python3.13/site-packages (from pandas) (2025.1)\n",
      "Requirement already satisfied: six>=1.5 in /Library/Frameworks/Python.framework/Versions/3.13/lib/python3.13/site-packages (from python-dateutil>=2.8.2->pandas) (1.17.0)\n",
      "Note: you may need to restart the kernel to use updated packages.\n"
     ]
    }
   ],
   "source": [
    "pip install requests pandas"
   ]
  },
  {
   "cell_type": "code",
   "execution_count": 16,
   "id": "7b483bb4-582e-4049-a3f1-ad1d86e312b7",
   "metadata": {},
   "outputs": [],
   "source": [
    "import requests\n",
    "import pandas as pd\n",
    "\n",
    "lovforslag_url = \"https://oda.ft.dk/api/Forslag\"\n",
    "lov_response = requests.get(lovforslag_url)\n",
    "lov_data = lov_response.json()['value']\n"
   ]
  },
  {
   "cell_type": "code",
   "execution_count": 15,
   "id": "fdcbacf9-5eea-486a-984a-193cb3d836b0",
   "metadata": {},
   "outputs": [
    {
     "data": {
      "text/plain": [
       "<bound method NDFrame.head of       id  typeid kategoriid  statusid  \\\n",
       "0     25       8       None        21   \n",
       "1     28       8       None        21   \n",
       "2     29       8       None        21   \n",
       "3     30       8       None        21   \n",
       "4     64       8       None        21   \n",
       "..   ...     ...        ...       ...   \n",
       "95  2745       8       None        21   \n",
       "96  2775       8       None        21   \n",
       "97  2917       8       None        21   \n",
       "98  3016       8       None        21   \n",
       "99  3029       8       None        21   \n",
       "\n",
       "                                                titel  \\\n",
       "0   Aktstykke om støtte til den 13. genopfyldning ...   \n",
       "1   Aktstykke om forhøjet tilskud til retshjælpsin...   \n",
       "2   Aktstykke om forhøjelse af nettodriftsbevillin...   \n",
       "3   Aktstykke om forhøjelse af nettodriftsbevillin...   \n",
       "4   Tidligere fortroligt aktstykke om dansk genind...   \n",
       "..                                                ...   \n",
       "95  Aktstykke om at indgå i konstruktionen af Euro...   \n",
       "96  Aktstykke om at oppebære 135 mio. kr. i udbytt...   \n",
       "97  Aktstykke om at der i 2013 kan ydes et ekstrao...   \n",
       "98  Aktstykke om tilslutning til, at Vejdirektorat...   \n",
       "99  Aktstykke om at videreføre forsøgsordningen, h...   \n",
       "\n",
       "                                            titelkort offentlighedskode  \\\n",
       "0   Aktstykke om støtte til den 13. genopfyldning ...                 O   \n",
       "1   Aktstykke om forhøjet tilskud til retshjælpsin...                 O   \n",
       "2   Aktstykke om forhøjelse af nettodriftsbevillin...                 O   \n",
       "3   Aktstykke om forhøjelse af nettodriftsbevillin...                 O   \n",
       "4   Tidligere fortroligt aktstykke om dansk genind...                 O   \n",
       "..                                                ...               ...   \n",
       "95  Aktstykke om at indgå i konstruktionen af Euro...                 O   \n",
       "96  Aktstykke om at oppebære 135 mio. kr. i udbytt...                 O   \n",
       "97  Aktstykke om at der i 2013 kan ydes et ekstrao...                 O   \n",
       "98  Aktstykke om tilslutning til, at Vejdirektorat...                 O   \n",
       "99  Aktstykke om at videreføre forsøgsordningen, h...                 O   \n",
       "\n",
       "        nummer nummerprefix nummernumerisk  ... paragrafnummer  \\\n",
       "0   Aktstk. 57      Aktstk.             57  ...              6   \n",
       "1   Aktstk. 58      Aktstk.             58  ...             11   \n",
       "2   Aktstk. 59      Aktstk.             59  ...             15   \n",
       "3   Aktstk. 60      Aktstk.             60  ...             15   \n",
       "4   Aktstk. 61      Aktstk.             61  ...             12   \n",
       "..         ...          ...            ...  ...            ...   \n",
       "95  Aktstk. 76      Aktstk.             76  ...             19   \n",
       "96  Aktstk. 75      Aktstk.             75  ...             21   \n",
       "97  Aktstk. 80      Aktstk.             80  ...             11   \n",
       "98  Aktstk. 81      Aktstk.             81  ...             28   \n",
       "99  Aktstk. 82      Aktstk.             82  ...              7   \n",
       "\n",
       "                                 paragraf       afgørelsesdato  \\\n",
       "0                     Udenrigsministeriet  2014-02-20T00:00:00   \n",
       "1                      Justitsministeriet  2014-01-16T00:00:00   \n",
       "2         Social- og Indenrigsministeriet  2014-01-16T00:00:00   \n",
       "3         Social- og Indenrigsministeriet  2014-01-16T00:00:00   \n",
       "4                     Forsvarsministeriet  2012-12-13T00:00:00   \n",
       "..                                    ...                  ...   \n",
       "95  Uddannelses- og Forskningsministeriet  2013-04-11T00:00:00   \n",
       "96                      Kulturministeriet  2013-04-17T00:00:00   \n",
       "97                     Justitsministeriet  2013-04-17T00:00:00   \n",
       "98         Transport- og Boligministeriet  2013-04-25T00:00:00   \n",
       "99                      Finansministeriet  2013-04-25T00:00:00   \n",
       "\n",
       "                                            afgørelse rådsmødedato lovnummer  \\\n",
       "0   Tiltrådt af Finansudvalget den 20-02-2014\\nDan...         None      None   \n",
       "1          Tiltrådt af Finansudvalget den 16-01-2014          None      None   \n",
       "2          Tiltrådt af Finansudvalget den 16-01-2014          None      None   \n",
       "3          Tiltrådt af Finansudvalget den 16-01-2014          None      None   \n",
       "4   Tiltrådt af et flertal i Finansudvalget den 13...         None      None   \n",
       "..                                                ...          ...       ...   \n",
       "95         Tiltrådt af Finansudvalget den 11-04-2013          None      None   \n",
       "96         Tiltrådt af Finansudvalget den 17-04-2013          None      None   \n",
       "97         Tiltrådt af Finansudvalget den 17-04-2013          None      None   \n",
       "98         Tiltrådt af Finansudvalget den 25-04-2013          None      None   \n",
       "99         Tiltrådt af Finansudvalget den 25-04-2013          None      None   \n",
       "\n",
       "   lovnummerdato  retsinformationsurl fremsatundersagid  deltundersagid  \n",
       "0           None                 None              None            None  \n",
       "1           None                 None              None            None  \n",
       "2           None                 None              None            None  \n",
       "3           None                 None              None            None  \n",
       "4           None                 None              None            None  \n",
       "..           ...                  ...               ...             ...  \n",
       "95          None                 None              None            None  \n",
       "96          None                 None              None            None  \n",
       "97          None                 None              None            None  \n",
       "98          None                 None              None            None  \n",
       "99          None                 None              None            None  \n",
       "\n",
       "[100 rows x 29 columns]>"
      ]
     },
     "execution_count": 15,
     "metadata": {},
     "output_type": "execute_result"
    }
   ],
   "source": [
    "df_lov = pd.DataFrame(lov_data)\n",
    "df_lov.head"
   ]
  },
  {
   "cell_type": "code",
   "execution_count": 31,
   "id": "30e2983b-ac37-4a60-8663-6a72b8636377",
   "metadata": {},
   "outputs": [
    {
     "name": "stdout",
     "output_type": "stream",
     "text": [
      "Index(['id', 'nummer', 'konklusion', 'vedtaget', 'kommentar', 'mødeid',\n",
      "       'typeid', 'sagstrinid', 'opdateringsdato'],\n",
      "      dtype='object')\n"
     ]
    }
   ],
   "source": [
    "lov_afstemning_url = \"https://oda.ft.dk/api/Afstemning\"\n",
    "lov_afstemning = requests.get(lov_afstemning_url)\n",
    "lov_afstemning = lov_afstemning.json()['value']\n",
    "af_df = pd.DataFrame(lov_afstemning)\n",
    "print(af_df.columns)"
   ]
  },
  {
   "cell_type": "code",
   "execution_count": 36,
   "id": "c8c56f4d-00d8-48c9-a720-ac092cf1c7fe",
   "metadata": {},
   "outputs": [
    {
     "data": {
      "text/plain": [
       "0     Vedtaget\\n\\n108 stemmer for forslaget (V, S, D...\n",
       "1     Vedtaget\\n\\n98 stemmer for forslaget (V, S, DF...\n",
       "2     Vedtaget\\n\\n59 stemmer for forslaget (S, RV, S...\n",
       "3     Vedtaget\\n\\n72 stemmer for forslaget (S, DF, R...\n",
       "4     Vedtaget\\n\\n98 stemmer for forslaget (V, S, DF...\n",
       "                            ...                        \n",
       "95    Forkastet\\n\\n8 stemmer for forslaget (EL)\\n\\n9...\n",
       "96    Forkastet\\n\\n8 stemmer for forslaget (EL)\\n\\n9...\n",
       "97    Forkastet\\n\\n8 stemmer for forslaget (EL)\\n\\n9...\n",
       "98    Forkastet\\n\\n8 stemmer for forslaget (EL)\\n\\n9...\n",
       "99    Forkastet\\n\\n8 stemmer for forslaget (EL)\\n\\n9...\n",
       "Name: konklusion, Length: 100, dtype: object"
      ]
     },
     "execution_count": 36,
     "metadata": {},
     "output_type": "execute_result"
    }
   ],
   "source": [
    "af_df['konklusion']"
   ]
  },
  {
   "cell_type": "code",
   "execution_count": 29,
   "id": "f7db5580-8aa2-4ba8-bf20-1ee94fb3338a",
   "metadata": {},
   "outputs": [
    {
     "data": {
      "text/plain": [
       "<bound method NDFrame.head of      id  typeid                 gruppenavnkort  \\\n",
       "0     1       3                            FIU   \n",
       "1     2       1                           None   \n",
       "2     3       2                 finansminister   \n",
       "3     4       2  økonomi- og indenrigsminister   \n",
       "4     5       5                           None   \n",
       "..  ...     ...                            ...   \n",
       "95   96       5                           None   \n",
       "96   97       5                           None   \n",
       "97   98       5                           None   \n",
       "98   99       5                           None   \n",
       "99  100       5                           None   \n",
       "\n",
       "                               navn        fornavn    efternavn  \\\n",
       "0                    Finansudvalget           None         None   \n",
       "1                 Finansministeriet           None         None   \n",
       "2                  finansministeren           None         None   \n",
       "3   økonomi- og indenrigsministeren           None         None   \n",
       "4                        Frank Aaen          Frank         Aaen   \n",
       "..                              ...            ...          ...   \n",
       "95                     Mike Legarth           Mike      Legarth   \n",
       "96                  Jesper Petersen         Jesper     Petersen   \n",
       "97                 René Christensen           René  Christensen   \n",
       "98                  Ole Birk Olesen       Ole Birk       Olesen   \n",
       "99            Sofie Carsten Nielsen  Sofie Carsten      Nielsen   \n",
       "\n",
       "                                             biografi  periodeid  \\\n",
       "0                                                None       32.0   \n",
       "1                                                None        NaN   \n",
       "2                                                None        NaN   \n",
       "3                                                None        NaN   \n",
       "4   <member><url>/medlemmer/fhvmf/f/frank-aaen</ur...        NaN   \n",
       "..                                                ...        ...   \n",
       "95  <member><url>/medlemmer/mf/m/mike-legarth</url...        NaN   \n",
       "96  <member><url/><status>1</status><sex>Mand</sex...        NaN   \n",
       "97  <member><url>/medlemmer/mf/r/rene-christensen<...        NaN   \n",
       "98  <member><url/><status>1</status><sex>Mand</sex...        NaN   \n",
       "99  <member><url>/medlemmer/mf/s/sofie-carsten-nie...        NaN   \n",
       "\n",
       "            opdateringsdato            startdato             slutdato  \n",
       "0   2025-04-24T19:17:54.087  2013-10-01T00:00:00  2014-10-07T00:00:00  \n",
       "1    2024-02-14T09:12:06.09  1953-09-30T00:00:00                 None  \n",
       "2   2025-04-24T19:13:41.223  2007-11-23T00:00:00  2009-04-07T00:00:00  \n",
       "3    2024-12-09T14:14:08.41  2011-10-03T00:00:00  2014-09-02T00:00:00  \n",
       "4   2024-12-11T12:49:52.583  2010-10-06T00:00:00  2010-12-02T00:00:00  \n",
       "..                      ...                  ...                  ...  \n",
       "95  2023-03-13T12:36:56.147  2010-10-06T00:00:00  2011-09-15T00:00:00  \n",
       "96  2025-04-24T19:15:27.023                 None                 None  \n",
       "97  2024-12-20T10:48:50.567  2022-09-13T00:00:00  2022-11-01T00:00:00  \n",
       "98   2025-04-24T19:17:35.67                 None                 None  \n",
       "99  2025-04-14T14:15:15.967  2022-03-01T00:00:00  2023-04-30T00:00:00  \n",
       "\n",
       "[100 rows x 11 columns]>"
      ]
     },
     "execution_count": 29,
     "metadata": {},
     "output_type": "execute_result"
    }
   ],
   "source": [
    "lov_aktør_url = \"https://oda.ft.dk/api/Aktør\"\n",
    "lov_aktør = requests.get(lov_aktør_url)\n",
    "lov_aktør = lov_aktør.json()['value']\n",
    "af_df = pd.DataFrame(lov_aktør)\n",
    "af_df.head"
   ]
  },
  {
   "cell_type": "code",
   "execution_count": null,
   "id": "8857e437-dcc2-418a-bb18-1a8387f893ce",
   "metadata": {},
   "outputs": [],
   "source": []
  },
  {
   "cell_type": "code",
   "execution_count": null,
   "id": "261e4add-1cae-432b-9db9-5087352e717e",
   "metadata": {},
   "outputs": [],
   "source": []
  }
 ],
 "metadata": {
  "kernelspec": {
   "display_name": "Python 3 (ipykernel)",
   "language": "python",
   "name": "python3"
  },
  "language_info": {
   "codemirror_mode": {
    "name": "ipython",
    "version": 3
   },
   "file_extension": ".py",
   "mimetype": "text/x-python",
   "name": "python",
   "nbconvert_exporter": "python",
   "pygments_lexer": "ipython3",
   "version": "3.13.1"
  }
 },
 "nbformat": 4,
 "nbformat_minor": 5
}
